{
 "cells": [
  {
   "cell_type": "code",
   "execution_count": 6,
   "metadata": {},
   "outputs": [],
   "source": [
    "import urllib.request\n",
    "import shutil\n",
    "import os\n",
    "from tqdm import tqdm\n",
    "\n",
    "RAW_DATA_DIR='BBBC021/data/raw'\n",
    "\n",
    "def gen_bar_updater(desc=None, leave=False):\n",
    "    pbar = tqdm(total=None, leave=leave, desc=desc)\n",
    "\n",
    "    def bar_update(count, block_size, total_size):\n",
    "        if pbar.total is None and total_size:\n",
    "            pbar.total = total_size\n",
    "        progress_bytes = count * block_size\n",
    "        pbar.update(progress_bytes - pbar.n)\n",
    "\n",
    "    return bar_update\n",
    "\n",
    "def download_file(url, dst_dir=None):\n",
    "    filename = os.path.basename(url.strip())\n",
    "    file_path = filename\n",
    "    if dst_dir is not None:\n",
    "        file_path = os.path.join(dst_dir, filename)\n",
    "     \n",
    "    urllib.request.urlretrieve(\n",
    "        url, file_path,\n",
    "        reporthook=gen_bar_updater(desc=filename)\n",
    "    )\n",
    "        \n",
    "def download_raw_data(images_urls='bbbc021_images_urls.txt', metadata_urls='bbbc021_metadata_urls.txt'):\n",
    "    if not os.path.exists(RAW_DATA_DIR):\n",
    "        os.mkdir(RAW_DATA_DIR)\n",
    "        \n",
    "    with open(metadata_urls) as file_object:\n",
    "        for url in file_object:\n",
    "            download_file(url, RAW_DATA_DIR)\n",
    "            \n",
    "    images_dir = os.path.join(RAW_DATA_DIR, 'images')\n",
    "    if not os.path.exists(images_dir):\n",
    "        os.mkdir(images_dir)\n",
    "        \n",
    "    with open(images_urls) as file_object:\n",
    "        for url in tqdm(file_object):\n",
    "            download_file(url, images_dir)\n",
    "            \n",
    "download_raw_data()"
   ]
  },
  {
   "cell_type": "code",
   "execution_count": 9,
   "metadata": {},
   "outputs": [
    {
     "name": "stdout",
     "output_type": "stream",
     "text": [
      "55\n"
     ]
    }
   ],
   "source": [
    "images_urls='bbbc021_images_urls.txt'\n",
    "with open(images_urls) as file_object:\n",
    "    print(len([x for x in file_object]))"
   ]
  },
  {
   "cell_type": "code",
   "execution_count": null,
   "metadata": {},
   "outputs": [],
   "source": []
  }
 ],
 "metadata": {
  "kernelspec": {
   "display_name": "Python 3",
   "language": "python",
   "name": "python3"
  },
  "language_info": {
   "codemirror_mode": {
    "name": "ipython",
    "version": 3
   },
   "file_extension": ".py",
   "mimetype": "text/x-python",
   "name": "python",
   "nbconvert_exporter": "python",
   "pygments_lexer": "ipython3",
   "version": "3.7.3"
  }
 },
 "nbformat": 4,
 "nbformat_minor": 2
}
